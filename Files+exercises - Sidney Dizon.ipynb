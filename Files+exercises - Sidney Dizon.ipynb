{
 "cells": [
  {
   "cell_type": "code",
   "execution_count": 40,
   "metadata": {},
   "outputs": [],
   "source": [
    "#Q1 Create a text file called mytxt.txt\n",
    "with open('mytxt.txt', 'w') as myFile:\n",
    "\n",
    "    # Save the following content in the text file:\n",
    "    # \"In this section, we will use Python's built-in open function to create a file object, and obtain the data from a \"txt\" file.\n",
    "    # We will use Python's open function to get a file object. \n",
    "    # We can apply a method to that object to read data from the file. We use the open function. \n",
    "    # The first argument is the file path, the second parameter is the mode.\"\n",
    "\n",
    "    content = '''In this section, we will use Python's built-in open function to create a file object, and obtain the data from a \"txt\" file.\n",
    "We will use Python's open function to get a file object.\n",
    "We can apply a method to that object to read data from the file. We use the open function.\n",
    "The first argument is the file path, the second parameter is the mode.'''\n",
    "    \n",
    "    myFile.write(content)\n"
   ]
  },
  {
   "cell_type": "code",
   "execution_count": 2,
   "metadata": {},
   "outputs": [
    {
     "name": "stdout",
     "output_type": "stream",
     "text": [
      "In this section, we will use Python's built-in open function to create a file object, and obtain the data from a \"txt\" file.\n",
      "We will use Python's open function to get a file object.\n",
      "We can apply a method to that object to read data from the file. We use the open function.\n",
      "The first argument is the file path, the second parameter is the mode.\n"
     ]
    }
   ],
   "source": [
    "#Q1 Write a Python program to read the entire mytxt file\n",
    "\n",
    "def printFileContents(filePath):\n",
    "    with open(filePath, 'r') as myFile:\n",
    "        print(myFile.read())\n",
    "        \n",
    "printFileContents('mytxt.txt')"
   ]
  },
  {
   "cell_type": "code",
   "execution_count": 3,
   "metadata": {},
   "outputs": [
    {
     "name": "stdout",
     "output_type": "stream",
     "text": [
      "We will use Python's open function to get a file object.\n",
      "We can apply a method to that object to read data from the file. We use the open function.\n",
      "The first argument is the file path, the second parameter is the mode."
     ]
    }
   ],
   "source": [
    "#Q2 Write a Python program to read last 3 lines of mytxt file\n",
    "with open('mytxt.txt', 'r') as myFile:\n",
    "    lines = myFile.readlines()\n",
    "    for line in lines[-3:]:\n",
    "        print(line, end = '')"
   ]
  },
  {
   "cell_type": "code",
   "execution_count": 4,
   "metadata": {},
   "outputs": [
    {
     "name": "stdout",
     "output_type": "stream",
     "text": [
      "We can apply a method to that object to read data from the file. We use the open function.\n",
      "The first argument is the file path, the second parameter is the mode."
     ]
    }
   ],
   "source": [
    "#Q3 Write a Python program to read last n lines of mytxt file [Hint: write a function]\n",
    "\n",
    "def lastNLines(filePath, NLines):\n",
    "    with open(filePath, 'r') as myFile:\n",
    "        lines = myFile.readlines()\n",
    "        for line in lines[-NLines:]:\n",
    "            print(line, end = '')\n",
    "        \n",
    "lastNLines('mytxt.txt', 2)"
   ]
  },
  {
   "cell_type": "code",
   "execution_count": 5,
   "metadata": {},
   "outputs": [
    {
     "name": "stdout",
     "output_type": "stream",
     "text": [
      "Line Count: 4\n"
     ]
    }
   ],
   "source": [
    "#Q4 count the number of lines in mytxt file \n",
    "def countLines(filePath):\n",
    "    with open('mytxt.txt', 'r') as myFile:\n",
    "        return len(myFile.readlines())\n",
    "    \n",
    "print(\"Line Count:\", countLines('mytxt.txt'))"
   ]
  },
  {
   "cell_type": "code",
   "execution_count": 30,
   "metadata": {},
   "outputs": [
    {
     "name": "stdout",
     "output_type": "stream",
     "text": [
      "Folder Contents:\n"
     ]
    },
    {
     "data": {
      "text/plain": [
       "['.ipynb_checkpoints',\n",
       " 'Array Practice.ipynb',\n",
       " 'Conditions+&+Loops+Exercises.ipynb',\n",
       " 'demo.txt',\n",
       " 'demoFile.txt',\n",
       " 'Dictionary+Exercises+.ipynb',\n",
       " 'Files+exercises+.ipynb',\n",
       " 'Functions+Exercises+.ipynb',\n",
       " 'IO Practice.ipynb',\n",
       " 'List+Exercises+.ipynb',\n",
       " 'Numpy+exercises+.ipynb',\n",
       " 'Pandas and Numpy.ipynb',\n",
       " 'Practice1.ipynb',\n",
       " 'Python+Basics+NoteBook.ipynb',\n",
       " 'Python+List+and+Tuple+Practice+Exercises.ipynb',\n",
       " 'Untitled.ipynb',\n",
       " 'A.txt',\n",
       " 'adfas,asdfa',\n",
       " 'asdfa,asdf',\n",
       " 'B.txt',\n",
       " 'C.txt',\n",
       " 'Credentials.txt',\n",
       " 'D.txt',\n",
       " 'demo2.txt',\n",
       " 'E.txt',\n",
       " 'F.txt',\n",
       " 'G.txt',\n",
       " 'H.txt',\n",
       " 'I.txt',\n",
       " 'J.txt',\n",
       " 'K.txt',\n",
       " 'L.txt',\n",
       " 'letters',\n",
       " 'M.txt',\n",
       " 'mytxt.tx',\n",
       " 'mytxt.txt',\n",
       " 'N.txt',\n",
       " 'O.txt',\n",
       " 'otherFile.txt',\n",
       " 'P.txt',\n",
       " 'Q.txt',\n",
       " 'R.txt',\n",
       " 'S.txt',\n",
       " 'T.txt',\n",
       " 'U.txt',\n",
       " 'V.txt',\n",
       " 'W.txt',\n",
       " 'X.txt',\n",
       " 'Y.txt',\n",
       " 'Z.txt']"
      ]
     },
     "execution_count": 30,
     "metadata": {},
     "output_type": "execute_result"
    }
   ],
   "source": [
    "#Q5 Write a Python program to generate 26 text files named A.txt, B.txt,C.txt ........ Z.txt\n",
    "import string, os\n",
    "\n",
    "for letter in string.ascii_uppercase:\n",
    "    with open(letter + \".txt\", \"w\") as myFile:\n",
    "        myFile.writelines(letter)\n",
    "        \n",
    "#Print the contents of the folder to see if the files were created\n",
    "print('Folder Contents:')\n",
    "os.listdir('.')"
   ]
  },
  {
   "cell_type": "code",
   "execution_count": 41,
   "metadata": {},
   "outputs": [
    {
     "name": "stdout",
     "output_type": "stream",
     "text": [
      "Updated file contents:\n",
      "\n",
      "In this section, we will use Python's built-in open function to create a file object, and obtain the data from a \"txt\" file.\n",
      "We will use Python's open function to get a file object.\n",
      "We can apply a method to that object to read data from the file. We use the open function.\n",
      "The first argument is the file path, the second parameter is the mode.End of file\n"
     ]
    }
   ],
   "source": [
    "#Q6 Write a Python program to append \"End of file\" to mytxt file and display the text \n",
    "def appendToFile(string, filePath):\n",
    "    with open(filePath, 'a') as myFile:\n",
    "        myFile.write(string)\n",
    "        \n",
    "strMsg = \"End of file\"\n",
    "appendToFile(strMsg, 'mytxt.txt')\n",
    "\n",
    "print('Updated file contents:\\n')\n",
    "printFileContents('mytxt.txt')"
   ]
  },
  {
   "cell_type": "code",
   "execution_count": 42,
   "metadata": {},
   "outputs": [
    {
     "name": "stdout",
     "output_type": "stream",
     "text": [
      "In this section, we will use Python's built-in open function to create a file object, and obtain the data from a \"txt\" file. We will use Python's open function to get a file object. We can apply a method to that object to read data from the file. We use the open function. The first argument is the file path, the second parameter is the mode.End of file \n"
     ]
    }
   ],
   "source": [
    "#Q7 Write a Python program to remove newline characters from mytxt file\n",
    "def removeNewLineChar(filePath):\n",
    "    with open(filePath, 'r') as myFile:\n",
    "        newContents = ''\n",
    "        for line in myFile:\n",
    "            line = line.rstrip('\\n')\n",
    "            newContents += line + ' '\n",
    "            \n",
    "    with open(filePath, 'w') as myFile:\n",
    "        myFile.write(newContents)\n",
    "\n",
    "removeNewLineChar('mytxt.txt')\n",
    "printFileContents('mytxt.txt')"
   ]
  },
  {
   "cell_type": "code",
   "execution_count": 9,
   "metadata": {},
   "outputs": [
    {
     "name": "stdout",
     "output_type": "stream",
     "text": [
      "The longest word in the file: parameter\n"
     ]
    }
   ],
   "source": [
    "# Q8 Write a python program to find the longest word in mytxt file\n",
    "def longestWord(filePath):\n",
    "    import string\n",
    "    longest = ''\n",
    "    \n",
    "    with open(filePath, 'r') as myFile:\n",
    "        contents = myFile.read().replace('.', ' ') #replace periods with \" \"\n",
    "        contents = contents.translate(str.maketrans('', '', string.punctuation)) #remove punctuation marks\n",
    "        wordList = list(contents.split())\n",
    "        longest = max(wordList, key=len)\n",
    "\n",
    "    return longest\n",
    "\n",
    "print(\"The longest word in the file:\", longestWord('mytxt.txt'))"
   ]
  },
  {
   "cell_type": "code",
   "execution_count": 68,
   "metadata": {},
   "outputs": [
    {
     "name": "stdout",
     "output_type": "stream",
     "text": [
      "Frequency of We is: 3\n",
      "TAKE NOTE: This is case sensitive\n"
     ]
    }
   ],
   "source": [
    "#Q9  Write a Python program to count the frequency \"We\" in mytxt file\n",
    "\n",
    "def freqCount(filePath, string):\n",
    "    with open(filePath, 'r') as myFile:\n",
    "        contents = myFile.read().replace(\".\", ' ')\n",
    "        wordList = contents.split()\n",
    "        wordDict = {}\n",
    "        for word in wordList:\n",
    "            if word not in wordDict.keys():\n",
    "                wordDict[word] = 1\n",
    "            else:\n",
    "                wordDict[word] += 1\n",
    "    \n",
    "    if string in wordDict.keys():\n",
    "        return wordDict[string]\n",
    "    else:\n",
    "        return 0\n",
    "\n",
    "word = \"We\"\n",
    "print(\"Frequency of\", word, \"is:\", freqCount('mytxt.txt', word))\n",
    "print(\"TAKE NOTE: This is case sensitive\")"
   ]
  },
  {
   "cell_type": "code",
   "execution_count": 11,
   "metadata": {},
   "outputs": [],
   "source": [
    "#Helper Function for Q10\n",
    "def makeDictionary(filePath):\n",
    "    with open(filePath, 'r') as myFile:\n",
    "        contents = myFile.read().replace(',', ' ').split()\n",
    "        values = iter(contents)\n",
    "        return dict(zip(values, values))\n",
    "        \n",
    "def addEntry(filePath, entry):\n",
    "    with open(filePath, 'a') as myFile:\n",
    "        myFile.write(entry + '\\n')"
   ]
  },
  {
   "cell_type": "code",
   "execution_count": 15,
   "metadata": {},
   "outputs": [
    {
     "name": "stdout",
     "output_type": "stream",
     "text": [
      "Credential File Contents:\n",
      "Sarah,12ssr\n",
      "Lisa,pass\n",
      "Donna,D00N\n",
      "\n"
     ]
    }
   ],
   "source": [
    "#Q10 Write a Python program to build a sign_Up and login forms for users. Your program should validate/authenticate entered credentials for existing users or create new accounts for new users\n",
    "#1 Create \"Credentials.txt\" file\n",
    "def baseCredFile(filePath):\n",
    "    with open(filePath, 'w') as credFile:\n",
    "        #2 Add the following information into your Credentials.txt file <Name, Password>\n",
    "        credFile.write('Sarah,12ssr\\n')    # Sarah,12ssr\n",
    "        credFile.write('Lisa,pass\\n')    # Lisa,pass\n",
    "        credFile.write('Donna,D00N\\n')    # Donna,D00N          \n",
    "\n",
    "baseCredFile('Credentials.txt')\n",
    "print('Credential File Contents:')\n",
    "printFileContents('Credentials.txt')"
   ]
  },
  {
   "cell_type": "code",
   "execution_count": 13,
   "metadata": {},
   "outputs": [
    {
     "name": "stdout",
     "output_type": "stream",
     "text": [
      "Enter your name: Sarah\n",
      "Enter your password: 12ssr\n",
      "Welcome Sarah!\n",
      "\n",
      "Enter your name: Lisa\n",
      "Enter your password: asdf\n",
      "Invalid Credentials: Wrong name or password\n",
      "\n",
      "Enter your name: qwersdf\n",
      "Enter your password: 2134fasd\n",
      "Login Failed: Name does not exists, please create a new account\n",
      "\n"
     ]
    }
   ],
   "source": [
    "#3 Create login function that takes two inputs (name,password)\n",
    "def myLogin(): \n",
    "    #3.1 Ask the user to enter their username and password\n",
    "    name = input(\"Enter your name: \")\n",
    "    password = input(\"Enter your password: \")\n",
    "    \n",
    "    credFile = makeDictionary('Credentials.txt')\n",
    "    if name in credFile.keys(): #3.2 search if the names exist in the Credentials.txt file\n",
    "        if credFile[name] == password: #3.2.1 if the name was found, check if the password is correct\n",
    "            return \"Welcome \" + name + \"!\" #3.2.2 return \"Welcome <persons name> if the name and password were correct\"\n",
    "        else:\n",
    "            return \"Invalid Credentials: Wrong name or password\" #3.2.3 else return \"wrong name or password\"\n",
    "    else:\n",
    "        return \"Login Failed: Name does not exists, please create a new account\" #3.2 if the name doesn't exist return \"your name doesn't exist, please create a new account\"\n",
    "    \n",
    "#5 Test your program by logging in using the new account\n",
    "print(myLogin() + '\\n') #Valid Credentials\n",
    "print(myLogin() + '\\n') #Invalid Credentials\n",
    "print(myLogin() + '\\n') #User does not exists\n",
    "\n",
    "\n"
   ]
  },
  {
   "cell_type": "code",
   "execution_count": 16,
   "metadata": {},
   "outputs": [
    {
     "name": "stdout",
     "output_type": "stream",
     "text": [
      "Enter your name: Sidney\n",
      "Enter your password: 12345\n",
      "New account created.\n",
      "\n",
      "Login to your new account.\n",
      "Enter your name: Sidney\n",
      "Enter your password: 12345\n",
      "Welcome Sidney!\n",
      "\n",
      "Register a new account.\n",
      "\n",
      "Enter your name: Sidney\n",
      "Enter your password: asdgfawef\n",
      "Name already taken. Register a different username.\n",
      "\n"
     ]
    }
   ],
   "source": [
    "#4 Create sign_Up function that takes two inputs(newName,newPassword)\n",
    "def sign_up():\n",
    "    #Ask user to enter their name and password\n",
    "    newName = input(\"Enter your name: \")\n",
    "    newPassword = input(\"Enter your password: \")\n",
    "    \n",
    "    #append the new information into the Credentials.txt file, follow the same format \"name,password\"\n",
    "    credPath = 'Credentials.txt'\n",
    "    credFile = makeDictionary(credPath)\n",
    "    if newName in credFile.keys(): #ONLY ADD CREDENTIALS THAT ARE UNIQUE\n",
    "        return \"Name already taken. Register a different username.\"\n",
    "    else:\n",
    "        newCred = newName + ',' + newPassword\n",
    "        addEntry(credPath, newCred)\n",
    "        return \"New account created.\"\n",
    "    \n",
    "    \n",
    "print(sign_up() + '\\n') #Sign up successful\n",
    "print('Login to your new account.')\n",
    "print(myLogin() + '\\n') #Login to check new account\n",
    "print('Register a new account.')\n",
    "print(sign_up() + '\\n') #Failed to sign-up (Name already exists)"
   ]
  },
  {
   "cell_type": "code",
   "execution_count": null,
   "metadata": {},
   "outputs": [],
   "source": []
  }
 ],
 "metadata": {
  "kernelspec": {
   "display_name": "Python 3",
   "language": "python",
   "name": "python3"
  },
  "language_info": {
   "codemirror_mode": {
    "name": "ipython",
    "version": 3
   },
   "file_extension": ".py",
   "mimetype": "text/x-python",
   "name": "python",
   "nbconvert_exporter": "python",
   "pygments_lexer": "ipython3",
   "version": "3.8.5"
  }
 },
 "nbformat": 4,
 "nbformat_minor": 4
}
