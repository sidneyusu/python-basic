{
 "cells": [
  {
   "cell_type": "code",
   "execution_count": 45,
   "metadata": {},
   "outputs": [
    {
     "name": "stdout",
     "output_type": "stream",
     "text": [
      "Type of intArray is: <class 'numpy.ndarray'>\n",
      "5 0 3 3 7 "
     ]
    }
   ],
   "source": [
    " #Q1 Write a Python program to create an array of 5 integers and display the array items. \n",
    "    \n",
    "import numpy as np\n",
    "np.random.seed(0)\n",
    "\n",
    "intArray = np.random.randint(10, size = 5) #size - (total size of the array)\n",
    "print(\"Type of intArray is:\", type(intArray))\n",
    "    \n",
    "# Access individual element through indexes\n",
    "for index in range(len(intArray)):\n",
    "    print(intArray[index], end=' ')\n"
   ]
  },
  {
   "cell_type": "code",
   "execution_count": 46,
   "metadata": {},
   "outputs": [
    {
     "name": "stdout",
     "output_type": "stream",
     "text": [
      "Reverse of [5 0 3 3 7] is: [7 3 3 0 5]\n"
     ]
    }
   ],
   "source": [
    "#Q2 Write a Python program to reverse the order of the items in the array\n",
    "print(\"Reverse of\", intArray, \"is:\", np.flip(intArray))"
   ]
  },
  {
   "cell_type": "code",
   "execution_count": 32,
   "metadata": {},
   "outputs": [
    {
     "name": "stdout",
     "output_type": "stream",
     "text": [
      "\n",
      "Shape of intArray2D is: (4, 2)\n",
      "\n",
      "The dimension of intArray2D is: 2\n",
      "\n",
      "DataType of array: int32\n",
      "The length/size of each element of the array in bytes: 4\n"
     ]
    }
   ],
   "source": [
    "#Q3 Create a 4X2 integer array and Prints its attributes \n",
    "intArray2D = np.random.randint(10, size = (4, 2))\n",
    "\n",
    "#The shape of an array. shape - (size of each dimension); \n",
    "print(\"\\nShape of intArray2D is:\", intArray2D.shape)\n",
    "\n",
    "#Array dimensions.\n",
    "print(\"\\nThe dimension of intArray2D is:\", intArray2D.ndim)\n",
    "\n",
    "#The Length of each element of the array in bytes.\n",
    "print(\"\\nDataType of array:\", intArray2D.dtype) #The byte size depends on the data type of elements\n",
    "print(\"The length/size of each element of the array in bytes:\", intArray2D.itemsize)"
   ]
  },
  {
   "cell_type": "code",
   "execution_count": 10,
   "metadata": {},
   "outputs": [
    {
     "name": "stdout",
     "output_type": "stream",
     "text": [
      "Items in the 3rd Column: [33 66 99]\n"
     ]
    }
   ],
   "source": [
    "# Q4 return array of items in the third column from all rows in the following numpy array\n",
    "# ([[11 ,22, 33], [44, 55, 66], [77, 88, 99]])\n",
    "intArrV2 = np.array([[11 ,22, 33], [44, 55, 66], [77, 88, 99]])\n",
    "Column3 = intArrV2[:, 2]\n",
    "\n",
    "print(\"Items in the 3rd Column:\", Column3)\n"
   ]
  },
  {
   "cell_type": "code",
   "execution_count": 44,
   "metadata": {},
   "outputs": [
    {
     "name": "stdout",
     "output_type": "stream",
     "text": [
      "The sum of the arrays:\n",
      " [[20 39 33]\n",
      " [25 25 28]]\n"
     ]
    }
   ],
   "source": [
    "#Q5 Create a result array by adding the following two NumPy arrays\n",
    "arrayOne = np.array([[5, 6, 9], [21 ,18, 27]])\n",
    "arrayTwo = np.array([[15 ,33, 24], [4 ,7, 1]])\n",
    "resultArray = arrayOne + arrayTwo\n",
    "\n",
    "print(\"The sum of the arrays:\\n\", resultArray)\n"
   ]
  },
  {
   "cell_type": "code",
   "execution_count": 25,
   "metadata": {},
   "outputs": [
    {
     "name": "stdout",
     "output_type": "stream",
     "text": [
      "Sorted version of the Array:\n",
      " [[20 33 39]\n",
      " [25 25 28]]\n"
     ]
    }
   ],
   "source": [
    "#Q6 Sort the previous array\n",
    "print(\"Sorted version of the Array:\\n\", np.sort(resultArray))\n"
   ]
  },
  {
   "cell_type": "code",
   "execution_count": 6,
   "metadata": {},
   "outputs": [],
   "source": [
    "#Functions vs Methods in Python\n",
    "# Method - called using the dot operator and is associated with a python object\n",
    "    # a set of instructions that are associated with an object\n",
    "    # associated with an object; can't exists without it\n",
    "# Function - invoked with the function name and is not associated a python object\n",
    "    # set of instructions that perform a task\n",
    "    # not associated with an object\n",
    "    # example of built in functions we use print(), input(), reverse()"
   ]
  }
 ],
 "metadata": {
  "kernelspec": {
   "display_name": "Python 3",
   "language": "python",
   "name": "python3"
  },
  "language_info": {
   "codemirror_mode": {
    "name": "ipython",
    "version": 3
   },
   "file_extension": ".py",
   "mimetype": "text/x-python",
   "name": "python",
   "nbconvert_exporter": "python",
   "pygments_lexer": "ipython3",
   "version": "3.8.5"
  }
 },
 "nbformat": 4,
 "nbformat_minor": 4
}
