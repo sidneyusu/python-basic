{
 "cells": [
  {
   "cell_type": "code",
   "execution_count": 1,
   "metadata": {},
   "outputs": [
    {
     "name": "stdout",
     "output_type": "stream",
     "text": [
      "Participants Dictionary:\n",
      " {'A': ('Adam', 'Ajinkya', 'Akash', 'Alka'), 'C': 'Chloe', 'D': ('Dami', 'Divya'), 'E': 'Edward', 'G': ('Gaurav', 'Gilmara'), 'I': 'Imara', 'J': ('Jainam', 'Jerry'), 'L': 'Leul', 'M': ('Mehrnaz', 'Muhammad'), 'O': 'Ola', 'P': 'Pray', 'R': ('Rasha', 'Riley', 'Romita'), 'S': ('Saloni', 'Saman', 'Santhiya', 'Sidney', 'Sowjanya', 'Suganya', 'Sunint'), 'T': ('Temitope', 'Tony'), 'U': 'Ulan', 'W': 'Winnie'}\n"
     ]
    }
   ],
   "source": [
    "#Q1 Create a dictionary for all participants in the JDA program.\n",
    "#Keys should be the first letter in their names, Values should be their names.\n",
    "#[Hint] dic={\"l\":(Leul),\"J\":(Jerry,Jainam)........}\n",
    "\n",
    "JDADictionary = {\n",
    "                \"A\":('Adam', 'Ajinkya', 'Akash', 'Alka'),\n",
    "                \"C\":('Chloe'),\n",
    "                \"D\":('Dami', 'Divya'),\n",
    "                \"E\":('Edward'),\n",
    "                \"G\":('Gaurav', 'Gilmara'),\n",
    "                \"I\":('Imara'),\n",
    "                \"J\":('Jainam', 'Jerry'),\n",
    "                \"L\":('Leul'),\n",
    "                \"M\":('Mehrnaz', 'Muhammad'),\n",
    "                \"O\":('Ola'),\n",
    "                \"P\":('Pray'),\n",
    "                \"R\":('Rasha','Riley','Romita'),\n",
    "                \"S\":('Saloni', 'Saman', 'Santhiya', 'Sidney', 'Sowjanya', 'Suganya', 'Sunint'),\n",
    "                \"T\":('Temitope', 'Tony'),\n",
    "                \"U\":('Ulan'),\n",
    "                \"W\":('Winnie')\n",
    "                \n",
    "}\n",
    "print(\"Participants Dictionary:\\n\", JDADictionary)"
   ]
  },
  {
   "cell_type": "code",
   "execution_count": 2,
   "metadata": {},
   "outputs": [
    {
     "name": "stdout",
     "output_type": "stream",
     "text": [
      "The keys in the dictionary are: dict_keys(['A', 'C', 'D', 'E', 'G', 'I', 'J', 'L', 'M', 'O', 'P', 'R', 'S', 'T', 'U', 'W'])\n"
     ]
    }
   ],
   "source": [
    "#Q2 What are the keys of your dictionary\n",
    "print(\"The keys in the dictionary are:\", JDADictionary.keys())"
   ]
  },
  {
   "cell_type": "code",
   "execution_count": 3,
   "metadata": {},
   "outputs": [
    {
     "name": "stdout",
     "output_type": "stream",
     "text": [
      "The values in the dictionary are: dict_values([('Adam', 'Ajinkya', 'Akash', 'Alka'), 'Chloe', ('Dami', 'Divya'), 'Edward', ('Gaurav', 'Gilmara'), 'Imara', ('Jainam', 'Jerry'), 'Leul', ('Mehrnaz', 'Muhammad'), 'Ola', 'Pray', ('Rasha', 'Riley', 'Romita'), ('Saloni', 'Saman', 'Santhiya', 'Sidney', 'Sowjanya', 'Suganya', 'Sunint'), ('Temitope', 'Tony'), 'Ulan', 'Winnie'])\n"
     ]
    }
   ],
   "source": [
    "#Q3 What are the values of your dictionary\n",
    "print(\"The values in the dictionary are:\", JDADictionary.values())"
   ]
  },
  {
   "cell_type": "code",
   "execution_count": 4,
   "metadata": {},
   "outputs": [
    {
     "name": "stdout",
     "output_type": "stream",
     "text": [
      "Value for the key J is: ('Jainam', 'Jerry')\n",
      "Value for the key I is: Imara\n",
      "Value for the key M is: ('Mehrnaz', 'Muhammad')\n",
      "Value for the key C is: Chloe\n",
      "Value for the key A is: ('Adam', 'Ajinkya', 'Akash', 'Alka')\n"
     ]
    }
   ],
   "source": [
    "#Q4 Find participant's names that start with J,I,M,C,A\n",
    "keyList = ['J', 'I', 'M', 'C', 'A']\n",
    "\n",
    "for key in keyList:\n",
    "    print(\"Value for the key\", key, \"is:\", JDADictionary[key])"
   ]
  },
  {
   "cell_type": "code",
   "execution_count": 5,
   "metadata": {},
   "outputs": [
    {
     "name": "stdout",
     "output_type": "stream",
     "text": [
      "Key<(K,PD), Value(Kristina) is in the dictionary\n"
     ]
    }
   ],
   "source": [
    "#Q5 Add the following to your dictionary \n",
    "# Key<(K,PD), Value(Kristina)\n",
    "\n",
    "if \"K,PD\" not in JDADictionary.keys():\n",
    "    JDADictionary[\"K,PD\"] = \"Kristina\"\n",
    "\n",
    "if \"K,PD\" in JDADictionary.keys():\n",
    "    if JDADictionary[\"K,PD\"] == \"Kristina\":\n",
    "        print(\"Key<(K,PD), Value(Kristina) is in the dictionary\")\n",
    "    else:\n",
    "        print(\"Key<(K,PD) value is:\", JDADictionary[\"K,PD\"])\n",
    "else:\n",
    "    print(\"Key<(K,PD) is not a key in the dictionary\")"
   ]
  },
  {
   "cell_type": "code",
   "execution_count": 6,
   "metadata": {},
   "outputs": [
    {
     "name": "stdout",
     "output_type": "stream",
     "text": [
      "Dictionary length is: 17\n"
     ]
    }
   ],
   "source": [
    "#Q6 Find the length of your dictionary  \n",
    "print(\"Dictionary length is:\", len(JDADictionary))"
   ]
  },
  {
   "cell_type": "code",
   "execution_count": 7,
   "metadata": {},
   "outputs": [
    {
     "name": "stdout",
     "output_type": "stream",
     "text": [
      "Key<(S,Instructor), Value(Sarah) is in the dictionary\n"
     ]
    }
   ],
   "source": [
    "#Q7 Add the following to your dictionary \n",
    "# Key<(S,Instructor), Value(Sarah)\n",
    "if \"S,Instructor\" not in JDADictionary.keys():\n",
    "    JDADictionary[\"S,Instructor\"] = \"Sarah\"\n",
    "\n",
    "if \"S,Instructor\" in JDADictionary.keys():\n",
    "    if JDADictionary[\"S,Instructor\"] == \"Sarah\":\n",
    "        print(\"Key<(S,Instructor), Value(Sarah) is in the dictionary\")\n",
    "    else:\n",
    "        print(\"Key<(S,Instructor)) value is:\", JDADictionary[\"S,Instructor\"])\n",
    "else:\n",
    "    print(\"Key<(S,Instructor) is not a key in the dictionary\")"
   ]
  },
  {
   "cell_type": "code",
   "execution_count": 8,
   "metadata": {},
   "outputs": [
    {
     "name": "stdout",
     "output_type": "stream",
     "text": [
      "Dictionary length is: 18\n"
     ]
    }
   ],
   "source": [
    "#Q8 Find the length of your dictionary  \n",
    "print(\"Dictionary length is:\", len(JDADictionary))"
   ]
  },
  {
   "cell_type": "code",
   "execution_count": 9,
   "metadata": {},
   "outputs": [
    {
     "name": "stdout",
     "output_type": "stream",
     "text": [
      "Is Key<(S,Instructor) still in dictionary? False\n",
      "Is Key<(J) still in dictionary? False\n"
     ]
    }
   ],
   "source": [
    "#Q7 Delete the following keys from your dictionary \n",
    "#Key<(S,Instructor)\n",
    "JDADictionary.pop(\"S,Instructor\")\n",
    "print(\"Is Key<(S,Instructor) still in dictionary?\", \"S,Instructor\" in JDADictionary.keys())\n",
    "\n",
    "#Key<J>\n",
    "JDADictionary.pop(\"J\")\n",
    "print(\"Is Key<(J) still in dictionary?\", \"J\" in JDADictionary.keys())"
   ]
  },
  {
   "cell_type": "code",
   "execution_count": 10,
   "metadata": {},
   "outputs": [
    {
     "name": "stdout",
     "output_type": "stream",
     "text": [
      "Dictionary length is: 16\n"
     ]
    }
   ],
   "source": [
    "#Q9 Find the length of your dictionary  \n",
    "print(\"Dictionary length is:\", len(JDADictionary))"
   ]
  },
  {
   "cell_type": "code",
   "execution_count": 11,
   "metadata": {},
   "outputs": [
    {
     "name": "stdout",
     "output_type": "stream",
     "text": [
      "{'A': ('Adam', 'Ajinkya', 'Akash', 'Alka'), 'C': 'Chloe', 'D': ('Dami', 'Divya'), 'E': 'Edward', 'G': ('Gaurav', 'Gilmara'), 'I': 'Imara', 'L': 'Leul', 'M': ('Mehrnaz', 'Muhammad'), 'O': 'Ola', 'P': 'Pray', 'R': ('Rasha', 'Riley', 'Romita'), 'S': ('Saloni', 'Saman', 'Santhiya', 'Sidney', 'Sowjanya', 'Suganya', 'Sunint'), 'T': ('Temitope', 'Tony'), 'U': 'Ulan', 'W': 'Winnie', 'K,PD': 'Kristina'}\n"
     ]
    }
   ],
   "source": [
    "#Q10 Create a new dictionary called synonyms_dic\n",
    "synonyms_dic = JDADictionary.copy()\n",
    "print(synonyms_dic)"
   ]
  },
  {
   "cell_type": "code",
   "execution_count": 12,
   "metadata": {},
   "outputs": [
    {
     "name": "stdout",
     "output_type": "stream",
     "text": [
      "Updated Synonyms Dictionary:\n",
      " {'A': ('Adam', 'Ajinkya', 'Akash', 'Alka'), 'C': 'Chloe', 'D': ('Dami', 'Divya'), 'E': 'Edward', 'G': ('Gaurav', 'Gilmara'), 'I': 'Imara', 'L': 'Leul', 'M': ('Mehrnaz', 'Muhammad'), 'O': 'Ola', 'P': 'Pray', 'R': ('Rasha', 'Riley', 'Romita'), 'S': ('Saloni', 'Saman', 'Santhiya', 'Sidney', 'Sowjanya', 'Suganya', 'Sunint'), 'T': ('Temitope', 'Tony'), 'U': 'Ulan', 'W': 'Winnie', 'K,PD': 'Kristina', 'Bad': 'Awful', 'Good': 'Satisfying', 'Awesome': 'Wonderful', 'Cold': 'Icy', 'Easy': 'Effortless', 'Hard': 'Tough', 'Big': 'Gigantic', 'Small': 'Tiny'}\n"
     ]
    }
   ],
   "source": [
    "#Q11 Add the synonyms of the following words to your dictionary \n",
    "#Bad, Good, Awesome, Cold, Easy, Hard, Big, Small\n",
    "keys = ['Bad', 'Good', 'Awesome', 'Cold', 'Easy', 'Hard', 'Big', 'Small']\n",
    "synonyms = ['Awful', 'Satisfying', 'Wonderful', 'Icy', 'Effortless', 'Tough', 'Gigantic', 'Tiny']\n",
    "\n",
    "for index, key in enumerate(keys):\n",
    "    synonyms_dic[key] = synonyms[index]\n",
    "    \n",
    "print(\"Updated Synonyms Dictionary:\\n\", synonyms_dic)"
   ]
  },
  {
   "cell_type": "code",
   "execution_count": 13,
   "metadata": {},
   "outputs": [
    {
     "name": "stdout",
     "output_type": "stream",
     "text": [
      "The synonym for Awesome is Wonderful\n",
      "The synonym for Easy is Effortless\n",
      "The synonym for Small is Tiny\n",
      "Old is not in the dictionary\n"
     ]
    }
   ],
   "source": [
    "#Q12 Use your dictionary to find the synonym of the following words \n",
    "# Awesome, Easy, Small, Old\n",
    "words = ['Awesome', 'Easy', 'Small', 'Old']\n",
    "\n",
    "for word in words:\n",
    "    if word in synonyms_dic.keys():\n",
    "        print(\"The synonym for\", word, \"is\", synonyms_dic[word])\n",
    "    else:\n",
    "        print(word, \"is not in the dictionary\")"
   ]
  },
  {
   "cell_type": "code",
   "execution_count": 14,
   "metadata": {},
   "outputs": [
    {
     "name": "stdout",
     "output_type": "stream",
     "text": [
      "Size of Synonyms Dictionary is: 0\n"
     ]
    }
   ],
   "source": [
    "#Q13 Delete everything from synonyms_dic\n",
    "synonyms_dic.clear()\n",
    "    \n",
    "print(\"Size of Synonyms Dictionary is:\", len(synonyms_dic))"
   ]
  },
  {
   "cell_type": "code",
   "execution_count": 15,
   "metadata": {},
   "outputs": [
    {
     "name": "stdout",
     "output_type": "stream",
     "text": [
      "The values for Synonyms dictionary are: dict_values([])\n"
     ]
    }
   ],
   "source": [
    "#Q14 Print all values in synonyms_dic\n",
    "print(\"The values for Synonyms dictionary are:\", synonyms_dic.values())"
   ]
  },
  {
   "cell_type": "code",
   "execution_count": 16,
   "metadata": {},
   "outputs": [
    {
     "name": "stdout",
     "output_type": "stream",
     "text": [
      "Binary Dictionary: {'True': 1, 'False': 0}\n"
     ]
    }
   ],
   "source": [
    "#Q15 Convert the below two lists into dictionary\n",
    "Keys=[\"True\",\"False\"]\n",
    "Values=[1,0]\n",
    "\n",
    "binary_dic = {}\n",
    "for index,key in enumerate(Keys):\n",
    "    binary_dic[key] = Values[index]\n",
    "    \n",
    "print(\"Binary Dictionary:\", binary_dic)"
   ]
  },
  {
   "cell_type": "code",
   "execution_count": 17,
   "metadata": {},
   "outputs": [
    {
     "name": "stdout",
     "output_type": "stream",
     "text": [
      "The sum for income: 4480\n"
     ]
    }
   ],
   "source": [
    "#Q16 Sum all the items in the following dictionary\n",
    "income={'Jan':1000,'Feb':1500,'Mar':980,'April':1000}\n",
    "\n",
    "sum = 0\n",
    "for key in income:\n",
    "    sum = sum + income[key]\n",
    "    \n",
    "print(\"The sum for income:\", sum)"
   ]
  },
  {
   "cell_type": "code",
   "execution_count": 19,
   "metadata": {},
   "outputs": [
    {
     "name": "stdout",
     "output_type": "stream",
     "text": [
      "encrypted: 110 101 10 1011 110 1001 111 1101\n",
      "decrypted:  I am hungry , I want to eat\n"
     ]
    }
   ],
   "source": [
    "#Q17 Create the following dictionary encryption={10:\"hungry\", 101:\"am\", 110:\"I\", 1011:\",\" ,1101:\"eat\", 1001:\"want\", 111:\"to\"}\n",
    "# What should the the decryption of the following code \"110 101 10 1011 110 1001 111 1101\"\n",
    "encryption = {10:\"hungry\", 101:\"am\", 110:\"I\", 1011:\",\" ,1101:\"eat\", 1001:\"want\", 111:\"to\"}\n",
    "code = \"110 101 10 1011 110 1001 111 1101\"\n",
    "\n",
    "#Convert to a list\n",
    "code1 = code.split(' ')\n",
    "#decrypt the list\n",
    "message = ''\n",
    "for value in code1:\n",
    "    message = message + ' ' + encryption[int(value)]\n",
    "    \n",
    "print(\"encrypted:\", code)\n",
    "print(\"decrypted:\", message)\n"
   ]
  },
  {
   "cell_type": "code",
   "execution_count": null,
   "metadata": {},
   "outputs": [],
   "source": []
  }
 ],
 "metadata": {
  "kernelspec": {
   "display_name": "Python 3",
   "language": "python",
   "name": "python3"
  },
  "language_info": {
   "codemirror_mode": {
    "name": "ipython",
    "version": 3
   },
   "file_extension": ".py",
   "mimetype": "text/x-python",
   "name": "python",
   "nbconvert_exporter": "python",
   "pygments_lexer": "ipython3",
   "version": "3.8.5"
  }
 },
 "nbformat": 4,
 "nbformat_minor": 4
}
