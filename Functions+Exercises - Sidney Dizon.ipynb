{
 "cells": [
  {
   "cell_type": "code",
   "execution_count": 2,
   "metadata": {},
   "outputs": [
    {
     "name": "stdout",
     "output_type": "stream",
     "text": [
      "Sum of 3 5 is: 8\n"
     ]
    }
   ],
   "source": [
    "#Q1 Write Python function that takes two inputs and return their sum value\n",
    "\n",
    "def mySum(num1, num2):\n",
    "    return num1 + num2\n",
    "\n",
    "n1 = 3\n",
    "n2 = 5\n",
    "\n",
    "print(\"Sum of\", n1, n2, \"is:\", mySum(n1, n2))"
   ]
  },
  {
   "cell_type": "code",
   "execution_count": 4,
   "metadata": {},
   "outputs": [
    {
     "name": "stdout",
     "output_type": "stream",
     "text": [
      "150 Celsius is 302.0 Fahrenheit\n"
     ]
    }
   ],
   "source": [
    "#Q2 Write Python function the takes a celsius temprature and converts it into fahrenheit \n",
    "\n",
    "def celsiusToFahrenheit(celsius):\n",
    "    return celsius * 1.8 + 32\n",
    "\n",
    "c = 150\n",
    "\n",
    "print(c, \"Celsius is\", celsiusToFahrenheit(c), \"Fahrenheit\")\n"
   ]
  },
  {
   "cell_type": "code",
   "execution_count": 9,
   "metadata": {},
   "outputs": [
    {
     "name": "stdout",
     "output_type": "stream",
     "text": [
      "The max of between 10 50 5 is: 50\n",
      "The max of between 1 2 3 is: 3\n",
      "The max of between 10 9 8 is: 10\n"
     ]
    }
   ],
   "source": [
    "#Q3 Write a Python function to find the Max of three numbers\n",
    "\n",
    "def findMaxOfThree(num1, num2, num3):\n",
    "    max = num1\n",
    "    if num2 > max:\n",
    "        max = num2\n",
    "    if num3 > max:\n",
    "        max = num3\n",
    "    return max\n",
    "\n",
    "\n",
    "num1 = 10\n",
    "num2 = 50\n",
    "num3 = 5\n",
    "print(\"The max of between\", num1, num2, num3, \"is:\", findMaxOfThree(num1, num2, num3))\n",
    "\n",
    "num1 = 1\n",
    "num2 = 2\n",
    "num3 = 3\n",
    "print(\"The max of between\", num1, num2, num3, \"is:\", findMaxOfThree(num1, num2, num3))\n",
    "\n",
    "num1 = 10\n",
    "num2 = 9\n",
    "num3 = 8\n",
    "print(\"The max of between\", num1, num2, num3, \"is:\", findMaxOfThree(num1, num2, num3))\n",
    "            "
   ]
  },
  {
   "cell_type": "code",
   "execution_count": 14,
   "metadata": {},
   "outputs": [
    {
     "name": "stdout",
     "output_type": "stream",
     "text": [
      "Does 6 exists between 5 and 12 ? True\n",
      "Does 1 exists between 5 and 12 ? False\n"
     ]
    }
   ],
   "source": [
    "#Q4 Write a Python function to check whether a number is in a given range [5,12]\n",
    "\n",
    "def checkIfNumExist(number, start, end):\n",
    "    for num in range(start, end):\n",
    "        if num == number:\n",
    "            return True\n",
    "        \n",
    "    return False\n",
    "\n",
    "number = 6\n",
    "start = 5\n",
    "end = 12\n",
    "print(\"Does\", number, \"exists between\", start, \"and\", end, \"?\", checkIfNumExist(number, start, end))\n",
    "\n",
    "number = 1\n",
    "start = 5\n",
    "end = 12\n",
    "print(\"Does\", number, \"exists between\", start, \"and\", end, \"?\", checkIfNumExist(number, start, end))"
   ]
  },
  {
   "cell_type": "code",
   "execution_count": 25,
   "metadata": {},
   "outputs": [
    {
     "name": "stdout",
     "output_type": "stream",
     "text": [
      "The unique elements of [1, 2, 3, 3, 3, 3, 4, 5] is: [1, 2, 3, 4, 5]\n"
     ]
    }
   ],
   "source": [
    "#Q5 Write a Python function that takes a list and returns a new list with unique elements of the first\n",
    "#Sample_List : [1,2,3,3,3,3,4,5]\n",
    "\n",
    "Sample_List = [1,2,3,3,3,3,4,5]\n",
    "\n",
    "def uniqueElem(firstList):\n",
    "    return list(set(firstList))\n",
    "\n",
    "print(\"The unique elements of\", Sample_List, \"is:\", uniqueElem(Sample_List))\n"
   ]
  },
  {
   "cell_type": "code",
   "execution_count": 27,
   "metadata": {},
   "outputs": [
    {
     "name": "stdout",
     "output_type": "stream",
     "text": [
      "For list [1, 2, 5, 4, 1] is the 1st and last element the same? True\n",
      "For list [5, 6, 3, 2, 1] is the 1st and last element the same? False\n",
      "For list [88, 44, 55, 66, 77, 88] is the 1st and last element the same? True\n"
     ]
    }
   ],
   "source": [
    "#Q6 Given a list of numbers, return True if first and last number of a list is same\n",
    "list1=[1,2,5,4,1]\n",
    "list2=[5,6,3,2,1]\n",
    "list3=[88,44,55,66,77,88]\n",
    "\n",
    "def isFirstAndLastSame(lists):\n",
    "    if lists[0] == lists[-1]:\n",
    "        return True\n",
    "    return False\n",
    "\n",
    "print(\"For list\", list1, \"is the 1st and last element the same?\", isFirstAndLastSame(list1))\n",
    "print(\"For list\", list2, \"is the 1st and last element the same?\", isFirstAndLastSame(list2))\n",
    "print(\"For list\", list3, \"is the 1st and last element the same?\", isFirstAndLastSame(list3))\n"
   ]
  },
  {
   "cell_type": "code",
   "execution_count": null,
   "metadata": {},
   "outputs": [],
   "source": []
  }
 ],
 "metadata": {
  "kernelspec": {
   "display_name": "Python 3",
   "language": "python",
   "name": "python3"
  },
  "language_info": {
   "codemirror_mode": {
    "name": "ipython",
    "version": 3
   },
   "file_extension": ".py",
   "mimetype": "text/x-python",
   "name": "python",
   "nbconvert_exporter": "python",
   "pygments_lexer": "ipython3",
   "version": "3.8.5"
  }
 },
 "nbformat": 4,
 "nbformat_minor": 4
}
