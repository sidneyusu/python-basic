{
 "cells": [
  {
   "cell_type": "code",
   "execution_count": 35,
   "metadata": {},
   "outputs": [
    {
     "name": "stdout",
     "output_type": "stream",
     "text": [
      "<class 'tuple'>\n"
     ]
    }
   ],
   "source": [
    "#Q1 Create a tuple with all participant names in the JDA program\n",
    "JDAParticipants = (\"Adam Murji\",\n",
    "                   \"Ajinkya Patil\",\n",
    "                   \"Akash Makkar\",\n",
    "                   \"Alka Savani\",\n",
    "                   \"Chole Erazua\",\n",
    "                   \"Dami Brown\",\n",
    "                   \"Divya\",\n",
    "                   \"Edward\",\n",
    "                   \"Gaurav\",\n",
    "                   \"Gilmara\",\n",
    "                   \"Imara\",\n",
    "                   \"Jainam\",\n",
    "                   \"Leul\",\n",
    "                   \"Mehrnaz\",\n",
    "                   \"Muhammad\",\n",
    "                   \"Ola\",\n",
    "                   \"Pray\",\n",
    "                   \"Rasha\",\n",
    "                   \"Riley\",\n",
    "                   \"Romita\",\n",
    "                   \"Saloni\",\n",
    "                   \"Saman\",\n",
    "                   \"Santhiya\",\n",
    "                   \"Sidney\",\n",
    "                   \"Sowjanya\",\n",
    "                   \"Suganya\",\n",
    "                   \"Sunint\",\n",
    "                   \"Temitope\",\n",
    "                   \"Tony\",\n",
    "                   \"Ulan\",\n",
    "                   \"Winnie\",\n",
    "                   \"Jerry\"\n",
    "                  )\n",
    "print(type(JDAParticipants))"
   ]
  },
  {
   "cell_type": "code",
   "execution_count": 36,
   "metadata": {},
   "outputs": [
    {
     "name": "stdout",
     "output_type": "stream",
     "text": [
      "['Adam Murji', 'Ajinkya Patil', 'Akash Makkar', 'Alka Savani', 'Chole Erazua', 'Dami Brown', 'Divya', 'Edward', 'Gaurav', 'Gilmara', 'Imara', 'Jainam', 'Leul', 'Mehrnaz', 'Muhammad', 'Ola', 'Pray', 'Rasha', 'Riley', 'Romita', 'Saloni', 'Saman', 'Santhiya', 'Sidney', 'Sowjanya', 'Suganya', 'Sunint', 'Temitope', 'Tony', 'Ulan', 'Winnie', 'Jerry']\n",
      "<class 'list'>\n"
     ]
    }
   ],
   "source": [
    "#Q2 Convert the tuple into a list called pps_L\n",
    "pps_L = list(JDAParticipants)\n",
    "print(pps_L)\n",
    "print(type(pps_L))"
   ]
  },
  {
   "cell_type": "code",
   "execution_count": 37,
   "metadata": {},
   "outputs": [
    {
     "name": "stdout",
     "output_type": "stream",
     "text": [
      "Lenght:  32\n"
     ]
    }
   ],
   "source": [
    "#Q3 What is the length of your list \n",
    "print(\"Lenght: \", len(pps_L))"
   ]
  },
  {
   "cell_type": "code",
   "execution_count": 51,
   "metadata": {},
   "outputs": [
    {
     "name": "stdout",
     "output_type": "stream",
     "text": [
      "pps_L[3]: Alka Savani\n",
      "pps_L[5]: Dami Brown\n",
      "pps_L[14]: Muhammad\n",
      "pps_L[30]: Winnie\n"
     ]
    }
   ],
   "source": [
    "#Q4 Find the values stored in indexes [3],[5],[14],[30],[38]\n",
    "indices = [3, 5, 14, 30] #there is no index 38 in the list\n",
    "\n",
    "for index in indices:\n",
    "    print(f\"pps_L[{index}]:\", pps_L[index])"
   ]
  },
  {
   "cell_type": "code",
   "execution_count": 42,
   "metadata": {},
   "outputs": [
    {
     "name": "stdout",
     "output_type": "stream",
     "text": [
      "Is Sarah in the list? False\n"
     ]
    }
   ],
   "source": [
    "#Q5 Check if \"Sarah\" is in the list\n",
    "print(\"Is Sarah in the list?\", \"Sarah\" in pps_L)"
   ]
  },
  {
   "cell_type": "code",
   "execution_count": 43,
   "metadata": {},
   "outputs": [
    {
     "name": "stdout",
     "output_type": "stream",
     "text": [
      "Sarah is added at index 32 in the list\n"
     ]
    }
   ],
   "source": [
    "#Q6 Add \"Sarah\" to your list\n",
    "if(\"Sarah\" not in pps_L):\n",
    "    pps_L.append(\"Sarah\")\n",
    "\n",
    "print(\"Sarah is added at index\", pps_L.index(\"Sarah\"), \"in the list\")"
   ]
  },
  {
   "cell_type": "code",
   "execution_count": 44,
   "metadata": {},
   "outputs": [
    {
     "name": "stdout",
     "output_type": "stream",
     "text": [
      "Is Bashir in the list: False\n"
     ]
    }
   ],
   "source": [
    "#Q7 Check if \"Bashir\" is in the list\n",
    "print(\"Is Bashir in the list:\", \"Bashir\" in pps_L)"
   ]
  },
  {
   "cell_type": "code",
   "execution_count": 45,
   "metadata": {},
   "outputs": [
    {
     "name": "stdout",
     "output_type": "stream",
     "text": [
      "Bashir is added at index 33 in the list\n"
     ]
    }
   ],
   "source": [
    "#Q9 Add \"Bashir\" to your list\n",
    "if(\"Bashir\" not in pps_L):\n",
    "    pps_L.append(\"Bashir\")\n",
    "print(\"Bashir is added at index\", pps_L.index(\"Bashir\"), \"in the list\")"
   ]
  },
  {
   "cell_type": "code",
   "execution_count": 46,
   "metadata": {},
   "outputs": [
    {
     "name": "stdout",
     "output_type": "stream",
     "text": [
      "Sarah is at index 32 in the list\n"
     ]
    }
   ],
   "source": [
    "#Q10 Find the index of the element \"Sarah\" in the list\n",
    "print(\"Sarah is at index\", pps_L.index(\"Sarah\"), \"in the list\")"
   ]
  },
  {
   "cell_type": "code",
   "execution_count": 47,
   "metadata": {},
   "outputs": [
    {
     "name": "stdout",
     "output_type": "stream",
     "text": [
      "Is Sarah still on the list? False\n",
      "Is Instructor on the list? True at index 32\n"
     ]
    }
   ],
   "source": [
    "#Q11 Change the value of the index in Q10 from \"Sarah\" to \"Instructor\"\n",
    "index = pps_L.index(\"Sarah\")\n",
    "pps_L[index] = \"Instructor\"\n",
    "print(\"Is Sarah still on the list?\", \"Sarah\" in pps_L)\n",
    "print(\"Is Instructor on the list?\", \"Instructor\" in pps_L, \"at index\", pps_L.index(\"Instructor\"))"
   ]
  },
  {
   "cell_type": "code",
   "execution_count": 48,
   "metadata": {},
   "outputs": [
    {
     "name": "stdout",
     "output_type": "stream",
     "text": [
      "Bashir is at index 33 in the list\n"
     ]
    }
   ],
   "source": [
    "#Q12 Find the index of the element \"Bashir\" in the list\n",
    "print(\"Bashir is at index\", pps_L.index(\"Bashir\"), \"in the list\")"
   ]
  },
  {
   "cell_type": "code",
   "execution_count": 49,
   "metadata": {},
   "outputs": [
    {
     "name": "stdout",
     "output_type": "stream",
     "text": [
      "Is Bashir still on the list? False\n",
      "Is Peer-Mentor on the list? True at index 33\n"
     ]
    }
   ],
   "source": [
    "#Q13 Change the value of the index in Q12 from \"Bashir\" to \"Peer-Mentor\"\n",
    "index = pps_L.index(\"Bashir\")\n",
    "pps_L[index] = \"Peer-Mentor\"\n",
    "print(\"Is Bashir still on the list?\", \"Bashir\" in pps_L)\n",
    "print(\"Is Peer-Mentor on the list?\", \"Peer-Mentor\" in pps_L, \"at index\", pps_L.index(\"Peer-Mentor\"))"
   ]
  },
  {
   "cell_type": "code",
   "execution_count": null,
   "metadata": {},
   "outputs": [],
   "source": []
  }
 ],
 "metadata": {
  "kernelspec": {
   "display_name": "Python 3",
   "language": "python",
   "name": "python3"
  },
  "language_info": {
   "codemirror_mode": {
    "name": "ipython",
    "version": 3
   },
   "file_extension": ".py",
   "mimetype": "text/x-python",
   "name": "python",
   "nbconvert_exporter": "python",
   "pygments_lexer": "ipython3",
   "version": "3.8.5"
  }
 },
 "nbformat": 4,
 "nbformat_minor": 4
}
