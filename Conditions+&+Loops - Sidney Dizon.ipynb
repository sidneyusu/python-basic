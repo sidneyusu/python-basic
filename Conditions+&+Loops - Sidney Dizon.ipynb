{
 "cells": [
  {
   "cell_type": "code",
   "execution_count": 9,
   "metadata": {},
   "outputs": [
    {
     "name": "stdout",
     "output_type": "stream",
     "text": [
      "Result for 20 40 : 60\n",
      "Result for 60 3 : 180\n"
     ]
    }
   ],
   "source": [
    "#Q1 Given two integer numbers. If any of the numbers are greater than 50 return their product, else return their sum\n",
    "number1= 20\n",
    "number2= 40\n",
    "\n",
    "def sumOrProduct(numbers):\n",
    "    operation = 's' #sum for s\n",
    "    result = 0\n",
    "    for num in numbers:\n",
    "       if num > 50:\n",
    "        operation = 'p' #product for p\n",
    "        \n",
    "    if operation == 'p':\n",
    "        result = 1\n",
    "        for num in numbers:\n",
    "            result *= num\n",
    "    else:\n",
    "        for num in numbers:\n",
    "            result += num\n",
    "            \n",
    "    return result\n",
    "\n",
    "\n",
    "print(\"Result for\",number1, number2, \":\", sumOrProduct([number1, number2]))\n",
    "\n",
    "number3 = 60\n",
    "number4 = 3\n",
    "\n",
    "print(\"Result for\",number3, number4, \":\", sumOrProduct([number3, number4]))"
   ]
  },
  {
   "cell_type": "code",
   "execution_count": 15,
   "metadata": {},
   "outputs": [
    {
     "name": "stdout",
     "output_type": "stream",
     "text": [
      "Check for [1, 2, 5, 4, 1] : True\n",
      "Check for [1, 2, 3, 4, 5, 6] : False\n"
     ]
    }
   ],
   "source": [
    "#Q2 Given a list of numbers, return True if first and last number of a list is same\n",
    "list=[1,2,5,4,1]\n",
    "list1 = [1,2,3,4,5,6]\n",
    "\n",
    "def check1stAndLast(listOfNumbers):\n",
    "    if listOfNumbers[0] == listOfNumbers[-1]:\n",
    "        return True\n",
    "    else:\n",
    "        return False\n",
    "    \n",
    "print(\"Check for\", list, \":\", check1stAndLast(list))\n",
    "print(\"Check for\", list1, \":\", check1stAndLast(list1))"
   ]
  },
  {
   "cell_type": "code",
   "execution_count": 44,
   "metadata": {},
   "outputs": [
    {
     "name": "stdout",
     "output_type": "stream",
     "text": [
      "Numbers 1 2 has sum: 3\n",
      "Numbers 2 3 has sum: 5\n",
      "Numbers 3 4 has sum: 7\n",
      "Numbers 4 5 has sum: 9\n",
      "Numbers 5 6 has sum: 11\n",
      "Numbers 6 7 has sum: 13\n",
      "Numbers 7 8 has sum: 15\n",
      "Numbers 8 9 has sum: 17\n",
      "Numbers 9 10 has sum: 19\n"
     ]
    }
   ],
   "source": [
    "#Q3 Given a range of the first 10 numbers[1:10], Iterate from the start number to the end number, \n",
    "#and In each iteration print the sum of the current number and previous number\n",
    "\n",
    "def sumConsecutiveNum(list):\n",
    "    for index in range(9):\n",
    "        print(\"Numbers\", list[index], list[index+1], 'has sum:', list[index] + list[index + 1])\n",
    "        \n",
    "list2 = [1,2,3,4,5,6,7,8,9,10]\n",
    "\n",
    "sumConsecutiveNum(list2)\n"
   ]
  },
  {
   "cell_type": "code",
   "execution_count": 29,
   "metadata": {},
   "outputs": [
    {
     "name": "stdout",
     "output_type": "stream",
     "text": [
      "Characters for' NPowerCanada ' with even index is: NoeCnd\n"
     ]
    }
   ],
   "source": [
    "#Q4 Given a string name, display only those characters which are present at an even index number\n",
    "name=\"NPowerCanada\"\n",
    "\n",
    "def printEvenIndex(string):\n",
    "    return (string[::2])\n",
    "    \n",
    "print(\"Characters for\\'\", name, \"\\' with even index is:\", printEvenIndex(name))"
   ]
  },
  {
   "cell_type": "code",
   "execution_count": 33,
   "metadata": {},
   "outputs": [
    {
     "name": "stdout",
     "output_type": "stream",
     "text": [
      "OldString: PythonCourse \n",
      "New String: Course\n"
     ]
    }
   ],
   "source": [
    "#Q5 Given a string oldString and an integer number n, \n",
    "#remove characters from a string starting from zero up to n and return a newString\n",
    "oldString=\"PythonCourse\"\n",
    "n=6\n",
    "\n",
    "def removeChars(string, end):\n",
    "    return string[end:]\n",
    "\n",
    "print(\"OldString:\", oldString, \"\\nNew String:\", removeChars(oldString, n))"
   ]
  },
  {
   "cell_type": "code",
   "execution_count": 35,
   "metadata": {},
   "outputs": [
    {
     "name": "stdout",
     "output_type": "stream",
     "text": [
      "*\n",
      "**\n",
      "***\n",
      "****\n"
     ]
    }
   ],
   "source": [
    "#Q6 Print the follwoing pattern\n",
    "\n",
    "#*\n",
    "#**\n",
    "#***\n",
    "#****\n",
    "star = '*'\n",
    "for i in range(4):\n",
    "    print(star)\n",
    "    star += '*'"
   ]
  },
  {
   "cell_type": "code",
   "execution_count": 41,
   "metadata": {},
   "outputs": [
    {
     "name": "stdout",
     "output_type": "stream",
     "text": [
      "Reverse for the list [90, 70, 50, 60] is: [60, 50, 70, 90]\n"
     ]
    }
   ],
   "source": [
    "#Q7 Reverse the following list using for loop\n",
    "list1=[90,70,50,60]\n",
    "\n",
    "def reverseList(list):\n",
    "    reverse = []\n",
    "    for index in range(-1, -(len(list)) - 1, -1):\n",
    "        reverse.append(list[index])\n",
    "    return reverse\n",
    "        \n",
    "print(\"Reverse for the list\", list1, \"is:\",reverseList(list1))"
   ]
  },
  {
   "cell_type": "code",
   "execution_count": 42,
   "metadata": {},
   "outputs": [
    {
     "name": "stdout",
     "output_type": "stream",
     "text": [
      "Numbers for -10 to -1 are:\n",
      "-10\n",
      "-9\n",
      "-8\n",
      "-7\n",
      "-6\n",
      "-5\n",
      "-4\n",
      "-3\n",
      "-2\n",
      "-1\n"
     ]
    }
   ],
   "source": [
    "#Q8 Display numbers from -10 to -1 using for loop [hint use range method]\n",
    "\n",
    "print(\"Numbers for -10 to -1 are:\")\n",
    "for i in range(-10, 0, 1):\n",
    "    print(i)"
   ]
  },
  {
   "cell_type": "code",
   "execution_count": null,
   "metadata": {},
   "outputs": [],
   "source": []
  }
 ],
 "metadata": {
  "kernelspec": {
   "display_name": "Python 3",
   "language": "python",
   "name": "python3"
  },
  "language_info": {
   "codemirror_mode": {
    "name": "ipython",
    "version": 3
   },
   "file_extension": ".py",
   "mimetype": "text/x-python",
   "name": "python",
   "nbconvert_exporter": "python",
   "pygments_lexer": "ipython3",
   "version": "3.8.5"
  }
 },
 "nbformat": 4,
 "nbformat_minor": 4
}
