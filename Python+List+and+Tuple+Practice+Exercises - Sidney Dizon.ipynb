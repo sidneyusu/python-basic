{
 "cells": [
  {
   "cell_type": "code",
   "execution_count": 2,
   "metadata": {},
   "outputs": [
    {
     "data": {
      "text/plain": [
       "('NPower', 'JDA', 'Tuesday', 30, 3, 2021)"
      ]
     },
     "execution_count": 2,
     "metadata": {},
     "output_type": "execute_result"
    }
   ],
   "source": [
    "#Q1 Create myTuple tuple with the follwoing values (\"NPower\",\"JDA\",\"Tuesday\",30,3,2021)\n",
    "myTuple = (\"NPower\",\"JDA\",\"Tuesday\",30,3,2021)\n",
    "myTuple"
   ]
  },
  {
   "cell_type": "code",
   "execution_count": 3,
   "metadata": {},
   "outputs": [
    {
     "data": {
      "text/plain": [
       "tuple"
      ]
     },
     "execution_count": 3,
     "metadata": {},
     "output_type": "execute_result"
    }
   ],
   "source": [
    "#Q2 What is the type of myTuple\n",
    "type(myTuple)"
   ]
  },
  {
   "cell_type": "code",
   "execution_count": 4,
   "metadata": {},
   "outputs": [
    {
     "data": {
      "text/plain": [
       "6"
      ]
     },
     "execution_count": 4,
     "metadata": {},
     "output_type": "execute_result"
    }
   ],
   "source": [
    "#Q3 What is the length of myTuple\n",
    "len(myTuple)"
   ]
  },
  {
   "cell_type": "code",
   "execution_count": 5,
   "metadata": {},
   "outputs": [
    {
     "name": "stdout",
     "output_type": "stream",
     "text": [
      "NPower JDA Tuesday 30 3 2021\n"
     ]
    }
   ],
   "source": [
    "#Q4 print the values in each index #Use regular indexing \n",
    "print(myTuple[0], myTuple[1], myTuple[2], myTuple[3], myTuple[4], myTuple[5])"
   ]
  },
  {
   "cell_type": "code",
   "execution_count": 6,
   "metadata": {},
   "outputs": [
    {
     "name": "stdout",
     "output_type": "stream",
     "text": [
      "2021 3 30 Tuesday JDA\n"
     ]
    }
   ],
   "source": [
    "#Q5 print the values in each index #Use negative indexing \n",
    "print(myTuple[-1], myTuple[-2], myTuple[-3], myTuple[-4], myTuple[-5])"
   ]
  },
  {
   "cell_type": "code",
   "execution_count": 7,
   "metadata": {},
   "outputs": [
    {
     "name": "stdout",
     "output_type": "stream",
     "text": [
      "<class 'str'> <class 'str'> <class 'str'> <class 'int'> <class 'int'> <class 'int'>\n"
     ]
    }
   ],
   "source": [
    "#Q6 what is the type of each value\n",
    "print(type(myTuple[0]),\n",
    "      type(myTuple[1]),\n",
    "      type(myTuple[2]),\n",
    "      type(myTuple[3]),\n",
    "      type(myTuple[4]),\n",
    "      type(myTuple[5])\n",
    "     )"
   ]
  },
  {
   "cell_type": "code",
   "execution_count": 8,
   "metadata": {},
   "outputs": [
    {
     "name": "stdout",
     "output_type": "stream",
     "text": [
      "NPower JDA Tuesday 30 3 2021\n"
     ]
    }
   ],
   "source": [
    "#Q7 unpack myTuple in the follwoing variables name,program,dayName,month,day,year accordingly \n",
    "name,program,dayName,month,day,year=myTuple\n",
    "\n",
    "# print the variables \n",
    "print(name,program,dayName,month,day,year)"
   ]
  },
  {
   "cell_type": "code",
   "execution_count": 29,
   "metadata": {},
   "outputs": [
    {
     "name": "stdout",
     "output_type": "stream",
     "text": [
      "Jerry 2 89 30 3 2021\n"
     ]
    }
   ],
   "source": [
    "#Q8 unpack myTuple2 in the follwoing variables name,program,dayName.\n",
    "myTuple2=(\"Jerry\",2,89)\n",
    "name,program,dayName=myTuple2\n",
    "\n",
    "# What will happen to variables (name,program,dayName) and (month,day,year)\n",
    "print(name,program,dayName,month,day,year)"
   ]
  },
  {
   "cell_type": "code",
   "execution_count": null,
   "metadata": {},
   "outputs": [],
   "source": [
    "# Note the following\n",
    "Tuple1=(\"Jerry\",2,89) #This is a tuple with 3 elements \n",
    "Tuple2=(\"Ulan\")#This is a tuple with 1 element\n",
    "test=\"Leul\" #This is a VARIABLE with string value\n",
    "\n",
    "a,b,c=Tuple1\n",
    "print(\"Type a\",type(a))\n",
    "print(a,b,c)\n",
    "\n",
    "d=Tuple2\n",
    "print(type(d))\n",
    "print(d)\n",
    "\n",
    "e=test\n",
    "print(e)"
   ]
  },
  {
   "cell_type": "code",
   "execution_count": null,
   "metadata": {},
   "outputs": [],
   "source": [
    "#Tuples are immutable\n",
    "#we can always make the testTuple variable reference a new tuple in the memory \n",
    "#and holding different information\n",
    "\n",
    "testTuple=(1,2,3)\n",
    "print(testTuple)\n",
    "\n",
    "testTuple=(4,5,6)\n",
    "print(testTuple)\n",
    "\n",
    "#But we can't change or edit a value for the existing tuple\n",
    "\n",
    "testTuple[0]=6 #ERROR 'tuple' object does not support item assignment\n",
    "\n"
   ]
  },
  {
   "cell_type": "code",
   "execution_count": 11,
   "metadata": {},
   "outputs": [
    {
     "name": "stdout",
     "output_type": "stream",
     "text": [
      "(2021, 3, 30, 'Tuesday', 'JDA', 'NPower')\n"
     ]
    }
   ],
   "source": [
    "#Q9 Reverse myTuple, output should looks like (\"NPower\",\"JDA\",\"Tuesday\",30,3,2021)\n",
    "myTuple = myTuple[::-1]\n",
    "print(myTuple)"
   ]
  },
  {
   "cell_type": "code",
   "execution_count": 12,
   "metadata": {},
   "outputs": [
    {
     "data": {
      "text/plain": [
       "(('Coursera', 'course', 6), ('week', (2, 'Lists', 'Tuple')))"
      ]
     },
     "execution_count": 12,
     "metadata": {},
     "output_type": "execute_result"
    }
   ],
   "source": [
    "#Q10 Create nestedTuple=((\"Coursera\",\"course\",6),(\"week\",(2,\"Lists\",\"Tuple\")))\n",
    "nestedTuple=((\"Coursera\",\"course\",6),(\"week\",(2,\"Lists\",\"Tuple\")))\n",
    "nestedTuple"
   ]
  },
  {
   "cell_type": "code",
   "execution_count": 13,
   "metadata": {},
   "outputs": [
    {
     "name": "stdout",
     "output_type": "stream",
     "text": [
      "(('week', (2, 'Lists', 'Tuple')),)\n"
     ]
    }
   ],
   "source": [
    "#Q11 What is the output of nestedTuple[1:2]\n",
    "print(nestedTuple[1:2])"
   ]
  },
  {
   "cell_type": "code",
   "execution_count": 14,
   "metadata": {},
   "outputs": [
    {
     "name": "stdout",
     "output_type": "stream",
     "text": [
      "Coursera course 6 week 2 Lists Tuple\n"
     ]
    }
   ],
   "source": [
    "#Q12 print each element in the nestedTuple\n",
    "print(nestedTuple[0][0],\n",
    "      nestedTuple[0][1],\n",
    "      nestedTuple[0][2],\n",
    "      nestedTuple[1][0],\n",
    "      nestedTuple[1][1][0],\n",
    "      nestedTuple[1][1][1],\n",
    "      nestedTuple[1][1][2]\n",
    ")"
   ]
  },
  {
   "cell_type": "code",
   "execution_count": 15,
   "metadata": {},
   "outputs": [
    {
     "data": {
      "text/plain": [
       "(2, 'Lists', 'Tuple')"
      ]
     },
     "execution_count": 15,
     "metadata": {},
     "output_type": "execute_result"
    }
   ],
   "source": [
    "#Q13 Access (2,\"Lists\",\"Tuple\") from nestedTuple\n",
    "nestedTuple[1][1]"
   ]
  },
  {
   "cell_type": "code",
   "execution_count": 16,
   "metadata": {},
   "outputs": [
    {
     "data": {
      "text/plain": [
       "'Lists'"
      ]
     },
     "execution_count": 16,
     "metadata": {},
     "output_type": "execute_result"
    }
   ],
   "source": [
    "#Q14 Access \"Lists\" from nestedTuple\n",
    "nestedTuple[1][1][1]"
   ]
  },
  {
   "cell_type": "code",
   "execution_count": 17,
   "metadata": {},
   "outputs": [
    {
     "data": {
      "text/plain": [
       "'Tuple'"
      ]
     },
     "execution_count": 17,
     "metadata": {},
     "output_type": "execute_result"
    }
   ],
   "source": [
    "#Q15 Access \"Tuple\" from nestedTuple\n",
    "nestedTuple[1][1][2]"
   ]
  },
  {
   "cell_type": "code",
   "execution_count": 18,
   "metadata": {},
   "outputs": [
    {
     "data": {
      "text/plain": [
       "'course'"
      ]
     },
     "execution_count": 18,
     "metadata": {},
     "output_type": "execute_result"
    }
   ],
   "source": [
    "#Q16 Access \"course\" from nestedTuple\n",
    "nestedTuple[0][1]"
   ]
  },
  {
   "cell_type": "code",
   "execution_count": 21,
   "metadata": {},
   "outputs": [
    {
     "data": {
      "text/plain": [
       "(2021,\n",
       " 3,\n",
       " 30,\n",
       " 'Tuesday',\n",
       " 'JDA',\n",
       " 'NPower',\n",
       " ('Coursera', 'course', 6),\n",
       " ('week', (2, 'Lists', 'Tuple')))"
      ]
     },
     "execution_count": 21,
     "metadata": {},
     "output_type": "execute_result"
    }
   ],
   "source": [
    "#Q17 Concatenate myTuple with nestedTuple\n",
    "myTuple = myTuple + nestedTuple\n",
    "myTuple"
   ]
  },
  {
   "cell_type": "code",
   "execution_count": 33,
   "metadata": {},
   "outputs": [
    {
     "data": {
      "text/plain": [
       "(2021,\n",
       " 3,\n",
       " 30,\n",
       " 'Tuesday',\n",
       " 'JDA',\n",
       " 'NPower',\n",
       " ('Coursera', 'course', 6),\n",
       " ('week', (2, 'Lists', 'Tuple')),\n",
       " 'Sidney',\n",
       " 'Dizon')"
      ]
     },
     "execution_count": 33,
     "metadata": {},
     "output_type": "execute_result"
    }
   ],
   "source": [
    "#Q18 add your name to the tuple\n",
    "myTuple = myTuple + (\"Sidney\", \"Dizon\")\n",
    "myTuple"
   ]
  },
  {
   "cell_type": "code",
   "execution_count": 34,
   "metadata": {},
   "outputs": [
    {
     "data": {
      "text/plain": [
       "False"
      ]
     },
     "execution_count": 34,
     "metadata": {},
     "output_type": "execute_result"
    }
   ],
   "source": [
    "#Q19 check whether Coursera exists within a myTuple\n",
    "\"Coursera\" in myTuple\n",
    "\n",
    "# NOTE in doesn't work properly with nested tuples # Wrong output\n"
   ]
  },
  {
   "cell_type": "code",
   "execution_count": 35,
   "metadata": {},
   "outputs": [
    {
     "name": "stdout",
     "output_type": "stream",
     "text": [
      "10\n"
     ]
    },
    {
     "data": {
      "text/plain": [
       "True"
      ]
     },
     "execution_count": 35,
     "metadata": {},
     "output_type": "execute_result"
    }
   ],
   "source": [
    "#Q20 check whether an element exists within a testTuple\n",
    "\n",
    "print(len(myTuple)) #See if myTuple has any elements on it\n",
    "\n",
    "\"NPower\" in myTuple #checks whether \"NPower\" elemen exists within myTuple\n"
   ]
  },
  {
   "cell_type": "code",
   "execution_count": 42,
   "metadata": {},
   "outputs": [
    {
     "name": "stdout",
     "output_type": "stream",
     "text": [
      "Index for JDA =  4\n",
      "Index for Coursera 0\n"
     ]
    },
    {
     "ename": "ValueError",
     "evalue": "tuple.index(x): x not in tuple",
     "output_type": "error",
     "traceback": [
      "\u001b[1;31m---------------------------------------------------------------------------\u001b[0m",
      "\u001b[1;31mValueError\u001b[0m                                Traceback (most recent call last)",
      "\u001b[1;32m<ipython-input-42-f0f53e815e15>\u001b[0m in \u001b[0;36m<module>\u001b[1;34m\u001b[0m\n\u001b[0;32m      5\u001b[0m \u001b[1;31m# Find the index of 'Coursera' in myTuple\u001b[0m\u001b[1;33m\u001b[0m\u001b[1;33m\u001b[0m\u001b[1;33m\u001b[0m\u001b[0m\n\u001b[0;32m      6\u001b[0m \u001b[0mprint\u001b[0m\u001b[1;33m(\u001b[0m\u001b[1;34m\"Index for Coursera\"\u001b[0m\u001b[1;33m,\u001b[0m \u001b[0mmyTuple\u001b[0m\u001b[1;33m[\u001b[0m\u001b[1;36m6\u001b[0m\u001b[1;33m]\u001b[0m\u001b[1;33m.\u001b[0m\u001b[0mindex\u001b[0m\u001b[1;33m(\u001b[0m\u001b[1;34m'Coursera'\u001b[0m\u001b[1;33m)\u001b[0m\u001b[1;33m)\u001b[0m \u001b[1;31m#Would not result to an error\u001b[0m\u001b[1;33m\u001b[0m\u001b[1;33m\u001b[0m\u001b[0m\n\u001b[1;32m----> 7\u001b[1;33m \u001b[0mprint\u001b[0m\u001b[1;33m(\u001b[0m\u001b[1;34m\"Index for Coursera\"\u001b[0m\u001b[1;33m,\u001b[0m \u001b[0mmyTuple\u001b[0m\u001b[1;33m.\u001b[0m\u001b[0mindex\u001b[0m\u001b[1;33m(\u001b[0m\u001b[1;34m'Coursera'\u001b[0m\u001b[1;33m)\u001b[0m\u001b[1;33m)\u001b[0m\u001b[1;33m\u001b[0m\u001b[1;33m\u001b[0m\u001b[0m\n\u001b[0m\u001b[0;32m      8\u001b[0m \u001b[1;31m# NOTE index doesn't work properly with nested tuples # Wrong output\u001b[0m\u001b[1;33m\u001b[0m\u001b[1;33m\u001b[0m\u001b[1;33m\u001b[0m\u001b[0m\n\u001b[0;32m      9\u001b[0m \u001b[1;31m# IN operator doesn't work recursively; That's why it only checks the outer tuple for membership\u001b[0m\u001b[1;33m\u001b[0m\u001b[1;33m\u001b[0m\u001b[1;33m\u001b[0m\u001b[0m\n",
      "\u001b[1;31mValueError\u001b[0m: tuple.index(x): x not in tuple"
     ]
    }
   ],
   "source": [
    "#Q21 Find the index of JDA in myTuple\n",
    "index = myTuple.index('JDA')\n",
    "print(\"Index for JDA = \", index)\n",
    "\n",
    "# Find the index of 'Coursera' in myTuple\n",
    "print(\"Index for Coursera\", myTuple[6].index('Coursera')) #Would not result to an error\n",
    "print(\"Index for Coursera\", myTuple.index('Coursera'))\n",
    "# NOTE index doesn't work properly with nested tuples # Wrong output\n",
    "# IN operator doesn't work recursively; That's why it only checks the outer tuple for membership"
   ]
  },
  {
   "cell_type": "code",
   "execution_count": 37,
   "metadata": {},
   "outputs": [
    {
     "name": "stdout",
     "output_type": "stream",
     "text": [
      "Sidney\n"
     ]
    }
   ],
   "source": [
    "#Q22 print index 8 from myTuple\n",
    "print(myTuple[8])"
   ]
  },
  {
   "cell_type": "code",
   "execution_count": 39,
   "metadata": {},
   "outputs": [
    {
     "name": "stdout",
     "output_type": "stream",
     "text": [
      "4th Element: Tuesday\n",
      "4th Element from last: ('Coursera', 'course', 6)\n"
     ]
    }
   ],
   "source": [
    "#Q23 Get the 4th element and 4th element from last of a myTuple\n",
    "print(\"4th Element:\", myTuple[3]) #4th element\n",
    "\n",
    "print(\"4th Element from last:\", myTuple[-4]) #4th element from last"
   ]
  },
  {
   "cell_type": "code",
   "execution_count": 40,
   "metadata": {},
   "outputs": [
    {
     "data": {
      "text/plain": [
       "0"
      ]
     },
     "execution_count": 40,
     "metadata": {},
     "output_type": "execute_result"
    }
   ],
   "source": [
    "#Q24 Find how many times 27 appeared in the tuple [Hint: Use method count()]\n",
    "myTuple.count(27)"
   ]
  },
  {
   "cell_type": "code",
   "execution_count": null,
   "metadata": {},
   "outputs": [],
   "source": []
  }
 ],
 "metadata": {
  "kernelspec": {
   "display_name": "Python 3",
   "language": "python",
   "name": "python3"
  },
  "language_info": {
   "codemirror_mode": {
    "name": "ipython",
    "version": 3
   },
   "file_extension": ".py",
   "mimetype": "text/x-python",
   "name": "python",
   "nbconvert_exporter": "python",
   "pygments_lexer": "ipython3",
   "version": "3.8.5"
  }
 },
 "nbformat": 4,
 "nbformat_minor": 4
}
